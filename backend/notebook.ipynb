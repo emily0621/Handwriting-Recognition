{
 "cells": [
  {
   "cell_type": "markdown",
   "source": [
    "<h2>Imports</h2>"
   ],
   "metadata": {
    "collapsed": false,
    "pycharm": {
     "name": "#%% md\n"
    }
   }
  },
  {
   "cell_type": "code",
   "execution_count": 32,
   "outputs": [],
   "source": [
    "import numpy as np\n",
    "import os\n",
    "from tensorflow import keras\n",
    "from tensorflow.keras.layers.experimental.preprocessing import StringLookup\n",
    "import tensorflow as tf\n",
    "from keras.layers import Input, Conv2D, MaxPooling2D, Reshape, Bidirectional, LSTM, Dense, BatchNormalization, Dropout\n",
    "from keras.models import load_model, Model\n",
    "import pickle\n",
    "import matplotlib.pyplot as plt\n",
    "import random\n",
    "import matplotlib.image as mpimg\n",
    "\n",
    "from configuration import PATH_TO_WORDS, PATH_TO_SAVED_FOLDER, IMAGE_WIDTH, IMAGE_HEIGHT, PADDING_TOKEN, BATCH_SIZE, TRAIN_SIZE, PATH_TO_IMAGES"
   ],
   "metadata": {
    "collapsed": false,
    "pycharm": {
     "name": "#%%\n"
    }
   }
  },
  {
   "cell_type": "markdown",
   "source": [
    "<h2>Some constants</h2>"
   ],
   "metadata": {
    "collapsed": false,
    "pycharm": {
     "name": "#%% md\n"
    }
   }
  },
  {
   "cell_type": "code",
   "execution_count": 16,
   "outputs": [],
   "source": [
    "words_metadata = PATH_TO_WORDS + '\\\\words_new.txt'\n",
    "image_shape = (IMAGE_WIDTH, IMAGE_HEIGHT)\n",
    "epochs = 50\n",
    "\n",
    "write = False"
   ],
   "metadata": {
    "collapsed": false,
    "pycharm": {
     "name": "#%%\n"
    }
   }
  },
  {
   "cell_type": "markdown",
   "source": [
    "<h2>Read dataset</h2>"
   ],
   "metadata": {
    "collapsed": false,
    "pycharm": {
     "name": "#%% md\n"
    }
   }
  },
  {
   "cell_type": "code",
   "execution_count": 17,
   "outputs": [
    {
     "name": "stdout",
     "output_type": "stream",
     "text": [
      "Total number of words: 44563\n"
     ]
    }
   ],
   "source": [
    "if write:\n",
    "    words = []\n",
    "    with open(words_metadata, \"r\") as file:\n",
    "        for line in file:\n",
    "            if line[0] != \"#\":\n",
    "                image_data = line.split(' ')\n",
    "                image_name = image_data[0]\n",
    "                word = image_data[8].strip()\n",
    "                image_name_splitted = line.split('-')\n",
    "                path_to_image_directory = os.path.join(PATH_TO_IMAGES, image_name_splitted[0], image_name_splitted[0] + '-' + image_name_splitted[1])\n",
    "                path_to_image = os.path.join(path_to_image_directory, image_name + '.png')\n",
    "                if os.path.getsize(path_to_image):\n",
    "                    words.append((path_to_image, word))\n",
    "\n",
    "    np.random.shuffle(words)\n",
    "    np.save(PATH_TO_SAVED_FOLDER + '\\\\words.npy', words)\n",
    "else:\n",
    "    words = np.load(PATH_TO_SAVED_FOLDER + '\\\\words.npy')\n",
    "\n",
    "print('Total number of words:', len(words))"
   ],
   "metadata": {
    "collapsed": false,
    "pycharm": {
     "name": "#%%\n"
    }
   }
  },
  {
   "cell_type": "markdown",
   "source": [
    "<h2>Split dataset</h2>"
   ],
   "metadata": {
    "collapsed": false,
    "pycharm": {
     "name": "#%% md\n"
    }
   }
  },
  {
   "cell_type": "code",
   "execution_count": 18,
   "outputs": [
    {
     "name": "stdout",
     "output_type": "stream",
     "text": [
      "Total number of train words: 35650\n",
      "Total number of test words: 4456\n",
      "Total number of validation words: 4457\n"
     ]
    }
   ],
   "source": [
    "if write:\n",
    "    index_train = int(len(words) * TRAIN_SIZE)\n",
    "    index_test = int(len(words) * (TRAIN_SIZE + (1 - TRAIN_SIZE) / 2))\n",
    "\n",
    "    train = words[:index_train]\n",
    "    test = words[index_train:index_test]\n",
    "    validation = words[index_test:]\n",
    "\n",
    "    np.save(PATH_TO_SAVED_FOLDER + '\\\\train.npy', train)\n",
    "    np.save(PATH_TO_SAVED_FOLDER + '\\\\test.npy', test)\n",
    "    np.save(PATH_TO_SAVED_FOLDER + '\\\\validation.npy', validation)\n",
    "else:\n",
    "    train = np.load(PATH_TO_SAVED_FOLDER + '\\\\train.npy')\n",
    "    test = np.load(PATH_TO_SAVED_FOLDER + '\\\\test.npy')\n",
    "    validation = np.load(PATH_TO_SAVED_FOLDER + '\\\\validation.npy')\n",
    "\n",
    "print('Total number of train words:', len(train))\n",
    "print('Total number of test words:', len(test))\n",
    "print('Total number of validation words:', len(validation))"
   ],
   "metadata": {
    "collapsed": false,
    "pycharm": {
     "name": "#%%\n"
    }
   }
  },
  {
   "cell_type": "markdown",
   "source": [
    "<h2>Collect vocabulary of unique symbols</h2>"
   ],
   "metadata": {
    "collapsed": false,
    "pycharm": {
     "name": "#%% md\n"
    }
   }
  },
  {
   "cell_type": "code",
   "execution_count": 19,
   "outputs": [
    {
     "name": "stdout",
     "output_type": "stream",
     "text": [
      "Maximum length:  19\n",
      "The longest word:  brilliantly-written\n",
      "Vocab size:  76\n"
     ]
    }
   ],
   "source": [
    "if write:\n",
    "    symbols = set()\n",
    "    max_len = 0\n",
    "    max_label = ''\n",
    "\n",
    "    for image_path, label in train:\n",
    "        for s in label:\n",
    "            symbols.add(s)\n",
    "\n",
    "        max_len = max(max_len, len(label))\n",
    "        if len(label) ==  max_len :\n",
    "            max_label = label\n",
    "\n",
    "    symbols = sorted(list(symbols))\n",
    "    with open(PATH_TO_SAVED_FOLDER + '\\\\symbols.pkl', 'wb') as file:\n",
    "        pickle.dump({'symbols': symbols, 'max_len': max_len, 'longest': max_label}, file)\n",
    "else:\n",
    "    with open(PATH_TO_SAVED_FOLDER + '\\\\symbols.pkl', 'rb') as file:\n",
    "        data = pickle.load(file)\n",
    "        symbols, max_len, max_label = data['symbols'], data['max_len'], data['longest']\n",
    "\n",
    "\n",
    "print(\"Maximum length: \", max_len)\n",
    "print(\"The longest word: \", max_label)\n",
    "print(\"Vocab size: \", len(symbols))"
   ],
   "metadata": {
    "collapsed": false,
    "pycharm": {
     "name": "#%%\n"
    }
   }
  },
  {
   "cell_type": "code",
   "execution_count": 20,
   "id": "e0810c20-de70-49eb-beb5-743977145887",
   "metadata": {},
   "outputs": [],
   "source": [
    "num_by_symbol = StringLookup(vocabulary=list(symbols), mask_token=None)\n",
    "symbol_by_num = StringLookup(vocabulary=num_by_symbol.get_vocabulary(), mask_token=None, invert=True)"
   ]
  },
  {
   "cell_type": "markdown",
   "source": [
    "<h2>Prepare data (load and preprocess images and labels)</h2>"
   ],
   "metadata": {
    "collapsed": false,
    "pycharm": {
     "name": "#%% md\n"
    }
   }
  },
  {
   "cell_type": "code",
   "execution_count": 21,
   "outputs": [],
   "source": [
    "def preprocess_image(image_path, img_size=image_shape):\n",
    "    image = tf.io.read_file(image_path)\n",
    "    image = tf.image.decode_png(image, 1)\n",
    "\n",
    "    w, h = img_size\n",
    "    image = tf.image.resize(image, size=(h, w), preserve_aspect_ratio=True)\n",
    "\n",
    "    pad_height = h - tf.shape(image)[0]\n",
    "    pad_width = w - tf.shape(image)[1]\n",
    "\n",
    "    if pad_height % 2 != 0:\n",
    "        height = pad_height // 2\n",
    "        pad_height_top = height + 1\n",
    "        pad_height_bottom = height\n",
    "    else:\n",
    "        pad_height_top = pad_height_bottom = pad_height // 2\n",
    "\n",
    "    if pad_width % 2 != 0:\n",
    "        width = pad_width // 2\n",
    "        pad_width_left = width + 1\n",
    "        pad_width_right = width\n",
    "    else:\n",
    "        pad_width_left = pad_width_right = pad_width // 2\n",
    "\n",
    "    image = tf.pad(image, paddings=[[pad_height_top, pad_height_bottom], [pad_width_left, pad_width_right], [0, 0]])\n",
    "\n",
    "    image = tf.transpose(image, perm=[1, 0, 2])\n",
    "    image = tf.image.flip_left_right(image)\n",
    "\n",
    "    image = tf.cast(image, tf.float32) / 255.0\n",
    "    return image\n",
    "\n",
    "\n",
    "def label_to_vector(label):\n",
    "    label = num_by_symbol(tf.strings.unicode_split(label, input_encoding=\"UTF-8\"))\n",
    "    length = tf.shape(label)[0]\n",
    "    pad_amount = max_len - length\n",
    "    label = tf.pad(label, paddings=[[0, pad_amount]], constant_values=PADDING_TOKEN)\n",
    "    return label\n",
    "\n",
    "\n",
    "def process_data(data):\n",
    "    image = preprocess_image(data[0])\n",
    "    label = label_to_vector(data[1])\n",
    "    return {\"image\": image, \"label\": label, \"path\": data[0]}\n",
    "\n",
    "\n",
    "def prepare_dataset(data):\n",
    "    dataset = tf.data.Dataset.from_tensor_slices(data).map(process_data, num_parallel_calls=tf.data.AUTOTUNE)\n",
    "    return dataset.batch(BATCH_SIZE).cache().prefetch(tf.data.AUTOTUNE)\n",
    "\n",
    "\n",
    "train_dataset = prepare_dataset(train)\n",
    "validation_dataset = prepare_dataset(validation)\n",
    "test_dataset = prepare_dataset(test)"
   ],
   "metadata": {
    "collapsed": false,
    "pycharm": {
     "name": "#%%\n"
    }
   }
  },
  {
   "cell_type": "markdown",
   "source": [
    "<h2>Model classes</h2>"
   ],
   "metadata": {
    "collapsed": false,
    "pycharm": {
     "name": "#%% md\n"
    }
   }
  },
  {
   "cell_type": "code",
   "execution_count": 22,
   "outputs": [
    {
     "name": "stdout",
     "output_type": "stream",
     "text": [
      "Model: \"handwriting_recognizer\"\n",
      "__________________________________________________________________________________________________\n",
      " Layer (type)                   Output Shape         Param #     Connected to                     \n",
      "==================================================================================================\n",
      " image (InputLayer)             [(None, 128, 32, 1)  0           []                               \n",
      "                                ]                                                                 \n",
      "                                                                                                  \n",
      " conv2d_5 (Conv2D)              (None, 124, 28, 32)  832         ['image[0][0]']                  \n",
      "                                                                                                  \n",
      " conv2d_6 (Conv2D)              (None, 120, 24, 64)  51264       ['conv2d_5[0][0]']               \n",
      "                                                                                                  \n",
      " batch_normalization_2 (BatchNo  (None, 120, 24, 64)  256        ['conv2d_6[0][0]']               \n",
      " rmalization)                                                                                     \n",
      "                                                                                                  \n",
      " max_pooling2d_2 (MaxPooling2D)  (None, 60, 12, 64)  0           ['batch_normalization_2[0][0]']  \n",
      "                                                                                                  \n",
      " conv2d_7 (Conv2D)              (None, 58, 10, 128)  73856       ['max_pooling2d_2[0][0]']        \n",
      "                                                                                                  \n",
      " conv2d_8 (Conv2D)              (None, 56, 8, 512)   590336      ['conv2d_7[0][0]']               \n",
      "                                                                                                  \n",
      " conv2d_9 (Conv2D)              (None, 54, 6, 1024)  4719616     ['conv2d_8[0][0]']               \n",
      "                                                                                                  \n",
      " batch_normalization_3 (BatchNo  (None, 54, 6, 1024)  4096       ['conv2d_9[0][0]']               \n",
      " rmalization)                                                                                     \n",
      "                                                                                                  \n",
      " max_pooling2d_3 (MaxPooling2D)  (None, 27, 3, 1024)  0          ['batch_normalization_3[0][0]']  \n",
      "                                                                                                  \n",
      " dropout_3 (Dropout)            (None, 27, 3, 1024)  0           ['max_pooling2d_3[0][0]']        \n",
      "                                                                                                  \n",
      " reshape (Reshape)              (None, 27, 3072)     0           ['dropout_3[0][0]']              \n",
      "                                                                                                  \n",
      " dense1 (Dense)                 (None, 27, 64)       196672      ['reshape[0][0]']                \n",
      "                                                                                                  \n",
      " bidirectional_2 (Bidirectional  (None, 27, 512)     657408      ['dense1[0][0]']                 \n",
      " )                                                                                                \n",
      "                                                                                                  \n",
      " dropout_4 (Dropout)            (None, 27, 512)      0           ['bidirectional_2[0][0]']        \n",
      "                                                                                                  \n",
      " bidirectional_3 (Bidirectional  (None, 27, 512)     1574912     ['dropout_4[0][0]']              \n",
      " )                                                                                                \n",
      "                                                                                                  \n",
      " dropout_5 (Dropout)            (None, 27, 512)      0           ['bidirectional_3[0][0]']        \n",
      "                                                                                                  \n",
      " label (InputLayer)             [(None, None)]       0           []                               \n",
      "                                                                                                  \n",
      " output (Dense)                 (None, 27, 79)       40527       ['dropout_5[0][0]']              \n",
      "                                                                                                  \n",
      " ctc_loss (CTCLayer)            (None, 27, 79)       0           ['label[0][0]',                  \n",
      "                                                                  'output[0][0]']                 \n",
      "                                                                                                  \n",
      "==================================================================================================\n",
      "Total params: 7,909,775\n",
      "Trainable params: 7,907,599\n",
      "Non-trainable params: 2,176\n",
      "__________________________________________________________________________________________________\n"
     ]
    }
   ],
   "source": [
    "class CTCLayer(keras.layers.Layer):\n",
    "    def __init__(self, name=None):\n",
    "        super().__init__(name=name)\n",
    "        self.loss_fn = keras.backend.ctc_batch_cost\n",
    "\n",
    "    def call(self, y_true, y_pred):\n",
    "        batch_len = tf.cast(tf.shape(y_true)[0], dtype=\"int64\")\n",
    "        input_length = tf.cast(tf.shape(y_pred)[1], dtype=\"int64\")\n",
    "        label_length = tf.cast(tf.shape(y_true)[1], dtype=\"int64\")\n",
    "\n",
    "        input_length = input_length * tf.ones(shape=(batch_len, 1), dtype=\"int64\")\n",
    "        label_length = label_length * tf.ones(shape=(batch_len, 1), dtype=\"int64\")\n",
    "        loss = self.loss_fn(y_true, y_pred, input_length, label_length)\n",
    "        self.add_loss(loss)\n",
    "\n",
    "        return y_pred\n",
    "\n",
    "\n",
    "def build_model():\n",
    "    input_img = keras.Input(shape=(image_shape[0], image_shape[1], 1), name=\"image\")\n",
    "    labels = Input(name=\"label\", shape=(None,))\n",
    "\n",
    "    x = Conv2D(32,(5, 5),activation=\"relu\")(input_img)\n",
    "    x = Conv2D(64,(5, 5),activation=\"relu\")(x)\n",
    "\n",
    "    x = BatchNormalization()(x)\n",
    "    x = MaxPooling2D((2, 2))(x)\n",
    "\n",
    "    x = Conv2D(128, (3, 3),activation=\"relu\")(x)\n",
    "    x = Conv2D(512, (3, 3),activation=\"relu\")(x)\n",
    "    x = Conv2D(1024,(3, 3),activation=\"relu\")(x)\n",
    "\n",
    "    x = BatchNormalization()(x)\n",
    "    x = MaxPooling2D((2, 2))(x)\n",
    "    x = Dropout(0.2)(x)\n",
    "\n",
    "    new_shape = (x.shape[1], x.shape[2] * 1024)\n",
    "\n",
    "    x = Reshape(target_shape=new_shape, name=\"reshape\")(x)\n",
    "    x = Dense(64, activation=\"relu\", name=\"dense1\")(x)\n",
    "\n",
    "    x = Bidirectional(LSTM(256, return_sequences=True))(x)\n",
    "    x = Dropout(0.2)(x)\n",
    "\n",
    "    x = Bidirectional(LSTM(256, return_sequences=True))(x)\n",
    "    x = Dropout(0.2)(x)\n",
    "\n",
    "    x = Dense(len(num_by_symbol.get_vocabulary()) + 2, activation=\"softmax\", name=\"output\")(x)\n",
    "    output = CTCLayer(name=\"ctc_loss\")(labels, x)\n",
    "\n",
    "    model = Model(inputs=[input_img, labels], outputs=output, name=\"handwriting_recognizer\")\n",
    "    opt = keras.optimizers.Adam()\n",
    "    model.compile(optimizer=opt)\n",
    "    return model\n",
    "\n",
    "model = build_model()\n",
    "model.summary()"
   ],
   "metadata": {
    "collapsed": false,
    "pycharm": {
     "name": "#%%\n"
    }
   }
  },
  {
   "cell_type": "markdown",
   "source": [
    "<h2>Build and train model</h2>"
   ],
   "metadata": {
    "collapsed": false,
    "pycharm": {
     "name": "#%% md\n"
    }
   }
  },
  {
   "cell_type": "code",
   "execution_count": 23,
   "outputs": [],
   "source": [
    "if write:\n",
    "    model = build_model()\n",
    "    prediction_model = keras.models.Model(model.get_layer(name=\"image\").input, model.get_layer(name=\"output\").output)\n",
    "    history = model.fit(train_dataset, validation_data=validation_dataset, epochs=epochs)\n",
    "    model.save(PATH_TO_SAVED_FOLDER + '\\\\Model.h5')\n",
    "    with open('history.pickle', 'wb') as file:\n",
    "        pickle.dump(history.history, file)\n",
    "else:\n",
    "    with keras.utils.custom_object_scope({'CTCLayer': CTCLayer}):\n",
    "        model = load_model(PATH_TO_SAVED_FOLDER + '\\\\Model.h5')"
   ],
   "metadata": {
    "collapsed": false,
    "pycharm": {
     "name": "#%%\n"
    }
   }
  },
  {
   "cell_type": "markdown",
   "source": [
    "<h2>Predict on test dataset</h2>"
   ],
   "metadata": {
    "collapsed": false,
    "pycharm": {
     "name": "#%% md\n"
    }
   }
  },
  {
   "cell_type": "code",
   "execution_count": 24,
   "outputs": [],
   "source": [
    "def decode_predictions(predictions):\n",
    "    input_len = np.ones(predictions.shape[0]) * predictions.shape[1]\n",
    "    results = keras.backend.ctc_decode(predictions, input_length=input_len, greedy=True)[0][0][:, :max_len]\n",
    "    output_text = []\n",
    "    for res in results:\n",
    "        res = tf.gather(res, tf.where(tf.math.not_equal(res, -1)))\n",
    "        res = tf.strings.reduce_join(symbol_by_num(res)).numpy().decode(\"utf-8\")\n",
    "        output_text.append(res)\n",
    "    return output_text\n",
    "\n",
    "def decode_labels(labels):\n",
    "    decoded_labels = []\n",
    "    for label in labels:\n",
    "        label_without_padding = tf.gather(label, tf.where(tf.math.not_equal(label, PADDING_TOKEN)))\n",
    "        decoded_labels.append(tf.strings.reduce_join(symbol_by_num(label_without_padding)).numpy().decode(\"utf-8\"))\n",
    "    return decoded_labels\n",
    "\n",
    "\n",
    "if write:\n",
    "    predictions, labels, images = [], [], []\n",
    "    prediction_model = Model(model.get_layer(name=\"image\").input, model.get_layer(name=\"output\").output)\n",
    "    for test_word in test_dataset:\n",
    "        predictions += decode_predictions(prediction_model.predict(test_word['image']))\n",
    "        labels += decode_labels(test_word['label'].numpy().tolist())\n",
    "        images += test_word['path'].numpy().tolist()\n",
    "    with open(PATH_TO_SAVED_FOLDER + '\\\\predictions.pkl', 'wb') as file:\n",
    "        pickle.dump({'predictions': predictions, 'labels': labels, 'images': images}, file)\n",
    "else:\n",
    "    with open(PATH_TO_SAVED_FOLDER + '\\\\predictions.pkl', 'rb') as file:\n",
    "        data = pickle.load(file)\n",
    "        predictions, labels, images = data['predictions'], data['labels'], data['images']"
   ],
   "metadata": {
    "collapsed": false,
    "pycharm": {
     "name": "#%%\n"
    }
   }
  },
  {
   "cell_type": "markdown",
   "source": [
    "<h2>Check predictions</h2>"
   ],
   "metadata": {
    "collapsed": false,
    "pycharm": {
     "name": "#%% md\n"
    }
   }
  },
  {
   "cell_type": "code",
   "execution_count": 28,
   "outputs": [
    {
     "name": "stdout",
     "output_type": "stream",
     "text": [
      "True text: pre-conceived\n",
      "Predicted text: pre-concered\n"
     ]
    },
    {
     "data": {
      "text/plain": "<Figure size 640x480 with 1 Axes>",
      "image/png": "[encoded data removed]"
     },
     "metadata": {},
     "output_type": "display_data"
    }
   ],
   "source": [
    "def show_random_prediction():\n",
    "    id = random.randint(0, len(predictions))\n",
    "    print(f'True text: {labels[id]}')\n",
    "    print(f'Predicted text: {predictions[id]}')\n",
    "\n",
    "    image = mpimg.imread(images[id])\n",
    "    plt.imshow(image)\n",
    "    plt.axis('off')\n",
    "    plt.show()\n",
    "\n",
    "show_random_prediction()"
   ],
   "metadata": {
    "collapsed": false,
    "pycharm": {
     "name": "#%%\n"
    }
   }
  },
  {
   "cell_type": "markdown",
   "source": [
    "<h2>Evaluate predictions</h2>"
   ],
   "metadata": {
    "collapsed": false,
    "pycharm": {
     "name": "#%% md\n"
    }
   }
  },
  {
   "cell_type": "code",
   "execution_count": 26,
   "outputs": [
    {
     "name": "stdout",
     "output_type": "stream",
     "text": [
      "Total count of correct words:  4456\n",
      "Correct count of correct words:  3029\n",
      "Percentage : 67.97576301615798% .\n",
      "\n",
      "Total count of correct symbols:  19048\n",
      "Correct count of correct symbols:  15423\n",
      "Percentage : 80.96913061738765% .\n"
     ]
    }
   ],
   "source": [
    "total_count = 0\n",
    "correct_count = 0\n",
    "\n",
    "total_symbols = 0\n",
    "correct_symbols = 0\n",
    "\n",
    "for i in range(len(predictions)):\n",
    "    total_count = total_count + 1\n",
    "    total_symbols += len(labels[i])\n",
    "    if labels[i] == predictions[i]:\n",
    "        correct_count = correct_count+1\n",
    "        correct_symbols += len(labels[i])\n",
    "    else:\n",
    "        for j in range(min(len(labels[i]), len(predictions[i]))):\n",
    "            if labels[i][j] == predictions[i][j]:\n",
    "                correct_symbols += 1\n",
    "\n",
    "\n",
    "print(\"Total count of correct words: \", total_count)\n",
    "print(\"Correct count of correct words: \", correct_count)\n",
    "print(f\"Percentage : {(correct_count / total_count) * 100}% .\")\n",
    "\n",
    "print(\"\\nTotal count of correct symbols: \", total_symbols)\n",
    "print(\"Correct count of correct symbols: \", correct_symbols)\n",
    "print(f\"Percentage : {(correct_symbols / total_symbols) * 100}% .\")"
   ],
   "metadata": {
    "collapsed": false,
    "pycharm": {
     "name": "#%%\n"
    }
   }
  }
 ],
 "metadata": {
  "kernelspec": {
   "display_name": "Python 3 (ipykernel)",
   "language": "python",
   "name": "python3"
  },
  "language_info": {
   "codemirror_mode": {
    "name": "ipython",
    "version": 3
   },
   "file_extension": ".py",
   "mimetype": "text/x-python",
   "name": "python",
   "nbconvert_exporter": "python",
   "pygments_lexer": "ipython3",
   "version": "3.9.16"
  }
 },
 "nbformat": 4,
 "nbformat_minor": 5
}